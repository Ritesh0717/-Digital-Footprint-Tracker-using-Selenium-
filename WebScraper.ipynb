{
 "cells": [
  {
   "cell_type": "code",
   "execution_count": null,
   "id": "ff67ce7f",
   "metadata": {},
   "outputs": [],
   "source": [
    "%pip install selenium"
   ]
  },
  {
   "cell_type": "code",
   "execution_count": null,
   "id": "ee42fe3a",
   "metadata": {},
   "outputs": [],
   "source": [
    "pip install webdriver-manager"
   ]
  },
  {
   "cell_type": "code",
   "execution_count": null,
   "id": "bed8b0cd",
   "metadata": {},
   "outputs": [],
   "source": [
    "from selenium import webdriver\n",
    "from selenium.webdriver.common.keys import Keys\n",
    "from selenium.webdriver.common.by import By\n",
    "from selenium.webdriver.support.ui import WebDriverWait\n",
    "from selenium.webdriver.support import expected_conditions as EC\n",
    "from selenium.webdriver.chrome.service import Service\n",
    "from selenium.webdriver.common.by import By\n",
    "\n",
    "from webdriver_manager.chrome import ChromeDriverManager\n",
    "\n",
    "from bs4 import BeautifulSoup as bs\n",
    "\n",
    "import re as re\n",
    "import time\n",
    "import pandas as pd"
   ]
  },
  {
   "cell_type": "code",
   "execution_count": null,
   "id": "51a8e096",
   "metadata": {},
   "outputs": [],
   "source": [
    "# Get Webdriver path, username and password\n",
    "PATH = \"D:\\Project Exhibition\"\n",
    "USERNAME = \"ritesh.mast@gmail.com\"\n",
    "PASSWORD = \"riteshsharma0717\"\n",
    "print(PATH)\n",
    "print(USERNAME)\n",
    "print(PASSWORD)"
   ]
  },
  {
   "cell_type": "code",
   "execution_count": null,
   "id": "7e500ec1",
   "metadata": {},
   "outputs": [],
   "source": [
    "# pip install webdriver-manager\n",
    "\n",
    "s=Service(ChromeDriverManager().install())\n",
    "driver = webdriver.Chrome(service=s)\n",
    "driver.maximize_window()\n",
    "driver.get('https://www.linkedin.com/uas/login?session_redirect=https%3A%2F%2Fwww%2Elinkedin%2Ecom%2Ffeed%2F&fromSignIn=true&trk=cold_join_sign_in')\n",
    "\n",
    "#driver.find_element(By.NAME, 'q').send_keys('Yasser Khalil')\n",
    "\n",
    "lnkdin_usr = \"riteshsharma0717@gmail.com\"\n",
    "lnkdin_pass = \"professional@177\"\n",
    "\n",
    "email=driver.find_element_by_id(\"username\")\n",
    "#email=driver.find_element_by_name(\"session_key\")\n",
    "#email=driver.findElement(By.ById(\"username\"))\n",
    "email.send_keys(lnkdin_usr)\n",
    "\n",
    "password=driver.find_element_by_id(\"password\")\n",
    "#password=driver.find_element_by_name(\"session_password\")\n",
    "#password=driver.findElement(By.ById(\"password\"))\n",
    "password.send_keys(lnkdin_pass)\n",
    "\n",
    "time.sleep(1)\n",
    "password.send_keys(Keys.RETURN)"
   ]
  },
  {
   "cell_type": "code",
   "execution_count": null,
   "id": "43f1e284",
   "metadata": {},
   "outputs": [],
   "source": [
    "# Creating lists\n",
    "post_links = []\n",
    "post_texts = []\n",
    "post_names = []"
   ]
  },
  {
   "cell_type": "code",
   "execution_count": null,
   "id": "93fdcb4b",
   "metadata": {},
   "outputs": [],
   "source": [
    "# Our web scraper Function\n",
    "def Scrape_func(a,b,c):\n",
    "    name = a[28:-1]\n",
    "    page = a\n",
    "    time.sleep(10)\n",
    "\n",
    "    driver.get(page + 'detail/recent-activity/shares/')  \n",
    "    start=time.time()\n",
    "    lastHeight = driver.execute_script(\"return document.body.scrollHeight\")\n",
    "    while True:\n",
    "        driver.execute_script(\"window.scrollTo(0, document.body.scrollHeight);\")\n",
    "        time.sleep(2)\n",
    "        newHeight = driver.execute_script(\"return document.body.scrollHeight\")\n",
    "        if newHeight == lastHeight:\n",
    "            break\n",
    "        lastHeight = newHeight\n",
    "        end=time.time()\n",
    "        if round(end-start)>20:\n",
    "            break\n",
    "\n",
    "    company_page = driver.page_source   \n",
    "\n",
    "    linkedin_soup = bs(company_page.encode(\"utf-8\"), \"html\")\n",
    "    linkedin_soup.prettify()\n",
    "    containers = linkedin_soup.findAll(\"div\",{\"class\":\"occludable-update ember-view\"})\n",
    "    print(\"Fetching data from account: \"+ name)\n",
    "    iterations = 0\n",
    "    nos = int(input(\"Enter number of posts: \"))\n",
    "    for container in containers:\n",
    "\n",
    "        try:\n",
    "            #text_box = container.find(\"div\",{\"class\":\"feed-shared-update-v2__description-wrapper ember-view\"})\n",
    "            text_box = container.find(\"div\",{\"class\":\"feed-shared-update-v2__description-wrapper\"})\n",
    "            text = text_box.find(\"span\",{\"dir\":\"ltr\"})\n",
    "            b.append(text.text.strip())\n",
    "            c.append(name)\n",
    "            iterations += 1\n",
    "            print(iterations)\n",
    "            \n",
    "            if(iterations==nos):\n",
    "                break\n",
    "\n",
    "        except:\n",
    "            pass    "
   ]
  },
  {
   "cell_type": "code",
   "execution_count": null,
   "id": "bcf7086e",
   "metadata": {
    "scrolled": true
   },
   "outputs": [],
   "source": [
    "# Using recursion with our function\n",
    "n = int(input(\"Enter the number of entries: \"))\n",
    "for i in range(n):\n",
    "    post_links.append(input(\"Enter the link: \"))\n",
    "for j in range(n):\n",
    "    Scrape_func(post_links[j],post_texts,post_names)\n",
    "\n",
    "        \n",
    "#driver.quit()\n",
    "\n",
    "#for testing purpose\n",
    "# https://www.linkedin.com/in/amansharma2910/\n",
    "# https://www.linkedin.com/in/smitbarmase/\n",
    "# https://www.linkedin.com/in/aayushmishra1512/\n",
    "# https://www.linkedin.com/in/tanishq-jaiswal-87b324111/"
   ]
  },
  {
   "cell_type": "code",
   "execution_count": null,
   "id": "a4c437f4",
   "metadata": {},
   "outputs": [],
   "source": [
    "# Saving the data\n",
    "data = {\n",
    "    \"Name\": post_names,\n",
    "    \"Content\": post_texts,\n",
    "}\n",
    "\n",
    "df = pd.DataFrame(data)\n",
    "#df.to_csv(\"test1.csv\", mode='a', encoding='utf-8', index=False)\n",
    "df.to_csv(\"test1.csv\", encoding='utf-8', index=False)\n",
    "\n",
    "scrpr_data_path = \"D:\\Project Exhibition\\Scraper_Data.xlsx\"\n",
    "writer = pd.ExcelWriter(scrpr_data_path, engine='xlsxwriter')\n",
    "df.to_excel(writer, index =False)\n",
    "writer.save()\n",
    "\n",
    "df = pd.read_excel(scrpr_data_path, engine='openpyxl')\n",
    "print(df)"
   ]
  },
  {
   "cell_type": "code",
   "execution_count": null,
   "id": "83302faf",
   "metadata": {},
   "outputs": [],
   "source": []
  }
 ],
 "metadata": {
  "kernelspec": {
   "display_name": "Python 3",
   "language": "python",
   "name": "python3"
  },
  "language_info": {
   "codemirror_mode": {
    "name": "ipython",
    "version": 3
   },
   "file_extension": ".py",
   "mimetype": "text/x-python",
   "name": "python",
   "nbconvert_exporter": "python",
   "pygments_lexer": "ipython3",
   "version": "3.10.9 (tags/v3.10.9:1dd9be6, Dec  6 2022, 20:01:21) [MSC v.1934 64 bit (AMD64)]"
  },
  "vscode": {
   "interpreter": {
    "hash": "66f804da07f0f556d77bc3269dc5bb19edf020422864031af2885e5ff55f9079"
   }
  }
 },
 "nbformat": 4,
 "nbformat_minor": 5
}
